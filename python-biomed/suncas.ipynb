{
 "cells": [
  {
   "cell_type": "markdown",
   "metadata": {},
   "source": [
    "# Classes in python\n",
    "\n",
    "This notebook introduces the concept of class in python. \n",
    "For more about object-oriented programming, consider consulting the following resources:\n",
    "\n",
    "1. [Python OOP Tutorial 1: Classes and Instances - YouTube](https://www.youtube.com/watch?v=ZDa-Z5JzLYM)\n",
    "2. [Python面向物件程式設計 （OOP） 入門指南 - 知乎](https://zhuanlan.zhihu.com/p/425356054)"
   ]
  },
  {
   "cell_type": "code",
   "execution_count": 12,
   "metadata": {},
   "outputs": [
    {
     "data": {
      "text/plain": [
       "'/Users/hephaescheun/Documents/python-biomed/python-biomed'"
      ]
     },
     "execution_count": 12,
     "metadata": {},
     "output_type": "execute_result"
    }
   ],
   "source": [
    "import os \n",
    "os.getcwd()"
   ]
  },
  {
   "cell_type": "code",
   "execution_count": 7,
   "metadata": {},
   "outputs": [
    {
     "data": {
      "text/plain": [
       "<module 'suncas' from '/Users/hephaescheun/Documents/python-biomed/python-biomed/suncas.py'>"
      ]
     },
     "execution_count": 7,
     "metadata": {},
     "output_type": "execute_result"
    }
   ],
   "source": [
    "import suncas\n",
    "import importlib\n",
    "importlib.reload(suncas)"
   ]
  },
  {
   "cell_type": "code",
   "execution_count": 8,
   "metadata": {},
   "outputs": [],
   "source": [
    "suncas_inst = suncas.Suncas(cute = True, sound_volume = 50)"
   ]
  },
  {
   "cell_type": "code",
   "execution_count": 9,
   "metadata": {},
   "outputs": [
    {
     "name": "stdout",
     "output_type": "stream",
     "text": [
      "Cuteness overload for this Suncas\n"
     ]
    }
   ],
   "source": [
    "suncas_inst.is_cute()"
   ]
  },
  {
   "cell_type": "code",
   "execution_count": null,
   "metadata": {},
   "outputs": [],
   "source": [
    "suncas_inst.speak()"
   ]
  },
  {
   "cell_type": "code",
   "execution_count": 11,
   "metadata": {},
   "outputs": [
    {
     "name": "stdout",
     "output_type": "stream",
     "text": [
      "Suncas hates MEA\n"
     ]
    }
   ],
   "source": [
    "suncas_inst.mea()"
   ]
  }
 ],
 "metadata": {
  "kernelspec": {
   "display_name": "meagut-7xPzj1mf-py3.10",
   "language": "python",
   "name": "python3"
  },
  "language_info": {
   "codemirror_mode": {
    "name": "ipython",
    "version": 3
   },
   "file_extension": ".py",
   "mimetype": "text/x-python",
   "name": "python",
   "nbconvert_exporter": "python",
   "pygments_lexer": "ipython3",
   "version": "3.10.6"
  },
  "orig_nbformat": 4
 },
 "nbformat": 4,
 "nbformat_minor": 2
}
