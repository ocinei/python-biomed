{
 "cells": [
  {
   "cell_type": "markdown",
   "metadata": {},
   "source": [
    "# My way of learning any programming language\n",
    "\n",
    "- Primitive variables \n",
    "- Control flow (if, for, while, etc.)\n",
    "- Objects and classes (for object-oriented languages)\n",
    "- Functions and methods\n",
    "- Important libraries and modules (relevant to the problem at hands)\n",
    "- Data structures (lists, dictionaries, etc.)\n",
    "- File I/O \n",
    "- Exception handling\n",
    "- Debugging\n",
    "- Testing\n",
    "- Documentation\n"
   ]
  },
  {
   "cell_type": "markdown",
   "metadata": {},
   "source": [
    "## Workflow \n",
    "\n",
    "0. Find, deposit and organise all the available learning resources (0.1-0.5 day)\n",
    "1. Familiarise oneself with the syntax (1 day)\n",
    "2. Binge watch tutorial videos on quirks and tricks (1 day)\n",
    "3. Start a project and start contributing while going through documentation, Q&A, and sometimes interesting courses\n",
    "\n",
    "\n",
    "*Use AI as a personal tutor when stuck*"
   ]
  }
 ],
 "metadata": {
  "language_info": {
   "name": "python"
  },
  "orig_nbformat": 4
 },
 "nbformat": 4,
 "nbformat_minor": 2
}
